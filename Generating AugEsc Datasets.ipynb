{
 "cells": [
  {
   "cell_type": "code",
   "execution_count": 30,
   "id": "1352b18f",
   "metadata": {},
   "outputs": [],
   "source": [
    "### loading data\n",
    "data_file = \"/home/pdey3/blenderbot/_reformat/augesc/augesc.txt\""
   ]
  },
  {
   "cell_type": "code",
   "execution_count": 31,
   "id": "3c3ba795",
   "metadata": {},
   "outputs": [],
   "source": [
    "data = open(data_file, \"r\")\n",
    "data = data.readlines()"
   ]
  },
  {
   "cell_type": "code",
   "execution_count": 32,
   "id": "7bd2cc78",
   "metadata": {},
   "outputs": [],
   "source": [
    "data = [d[:-1] for d in data]"
   ]
  },
  {
   "cell_type": "code",
   "execution_count": 33,
   "id": "68c5c77b",
   "metadata": {},
   "outputs": [],
   "source": [
    "### need to convert this so that it resembles KEMI data structure\n",
    "#'dialog': [\n",
    "        #{'text': 'Hi', \n",
    "        # 'speaker': 'usr' \n",
    "        #}, \n",
    "        #{'text': 'Hi, I am here to support you in anyway that I can how is your day going?', \n",
    "        #'speaker': 'sys', \n",
    "        #} "
   ]
  },
  {
   "cell_type": "code",
   "execution_count": 34,
   "id": "5b987337",
   "metadata": {},
   "outputs": [],
   "source": [
    "import ast"
   ]
  },
  {
   "cell_type": "code",
   "execution_count": 35,
   "id": "9a06af37",
   "metadata": {},
   "outputs": [
    {
     "data": {
      "text/plain": [
       "[['usr',\n",
       "  'My upstairs neighbors make a ton of noise at all hours of the night. It makes it difficult for me to sleep.'],\n",
       " ['sys',\n",
       "  \"Ah, I understand, there's more noise in your area than in other parts of the world?\"],\n",
       " ['usr', \"I'm not sure if they're directly in my room, but it feels like it.\"],\n",
       " ['sys',\n",
       "  'What sort of noise do you hear? Do you feel that its necessary to live in close proximity to them?'],\n",
       " ['usr',\n",
       "  'They have what sounds like parties, loud music playing, someone flushing a toilet at 3am, slamming doors, and shouting loudly.'],\n",
       " ['sys',\n",
       "  'I can see how it may be difficult to sleep at night with that type of activity going on. What is the relationship between your neighbors and you?'],\n",
       " ['usr',\n",
       "  \"The only thing I've found that helps a little is having the door closed, but that only works for a short time before they walk in.\"],\n",
       " ['sys',\n",
       "  'Have you tried asking them to turn their music down, or complaining to your landlord?'],\n",
       " ['usr',\n",
       "  \"I've complained to my landlord but haven't had any real success. I think it's more of a nuisance to them than it is to me.\"],\n",
       " ['sys',\n",
       "  \"I would imagine that they don't care much about what you like or do, they're just being noisy to get away from their own problems. What is your relationship with your landlord like?\"],\n",
       " ['usr',\n",
       "  \"He's never spoken to them in any way, he thinks it's their problem not ours.\"],\n",
       " ['sys',\n",
       "  \"So you haven't had any relationship with him. Is there any way you can get your own space, perhaps some sort of partition?\"],\n",
       " ['usr',\n",
       "  \"I think it's unlikely that I will be able to get my own space anytime soon, but I don't mind having a good neighbor for now.\"],\n",
       " ['sys',\n",
       "  \"I'm sorry to hear that. Maybe you could tell him that the noise is keeping you awake and ask him to talk to your neighbors to avoid you living in such discomfort.\"],\n",
       " ['usr',\n",
       "  \"I don't want to ask him to do anything. I feel like I'm being forced into this situation and I don't have any alternatives.\"],\n",
       " ['sys',\n",
       "  \"That's understandable. Have you tried speaking with your neighbors? They might like to make amends.\"],\n",
       " ['usr',\n",
       "  'I called their door and left a message but got no response. The same goes for my neighbors.'],\n",
       " ['sys',\n",
       "  \"I'm sorry to hear that. Have you tried speaking with your landlord again? It may seem like he's not paying attention, but he may just be busy.\"],\n",
       " ['usr',\n",
       "  \"My landlord says he will talk to them, but he's been a silent enforcer for as long as I've lived here.\"],\n",
       " ['sys',\n",
       "  'I can see why it is hard for you. Is there anything else that I could say to help you feel better?'],\n",
       " ['usr',\n",
       "  'It really is, and I appreciate you taking the time to listen to me.'],\n",
       " ['sys', 'I hope you have a good rest of the evening. :)']]"
      ]
     },
     "execution_count": 35,
     "metadata": {},
     "output_type": "execute_result"
    }
   ],
   "source": [
    "ast.literal_eval(data[0])"
   ]
  },
  {
   "cell_type": "code",
   "execution_count": 36,
   "id": "20d9218d",
   "metadata": {},
   "outputs": [],
   "source": [
    "results = [] \n",
    "for d in data: \n",
    "    d = ast.literal_eval(d)\n",
    "    reformed = [] \n",
    "    for utterance in d: \n",
    "        user = utterance[0]\n",
    "        text = utterance[1]\n",
    "        reformed.append({\n",
    "            'text': text,\n",
    "            'speaker': user\n",
    "        })\n",
    "    dict_ = {'dialog': reformed}\n",
    "    results.append(dict_)"
   ]
  },
  {
   "cell_type": "code",
   "execution_count": 37,
   "id": "0a06fa15",
   "metadata": {},
   "outputs": [
    {
     "data": {
      "text/plain": [
       "{'dialog': [{'text': 'My upstairs neighbors make a ton of noise at all hours of the night. It makes it difficult for me to sleep.',\n",
       "   'speaker': 'usr'},\n",
       "  {'text': \"Ah, I understand, there's more noise in your area than in other parts of the world?\",\n",
       "   'speaker': 'sys'},\n",
       "  {'text': \"I'm not sure if they're directly in my room, but it feels like it.\",\n",
       "   'speaker': 'usr'},\n",
       "  {'text': 'What sort of noise do you hear? Do you feel that its necessary to live in close proximity to them?',\n",
       "   'speaker': 'sys'},\n",
       "  {'text': 'They have what sounds like parties, loud music playing, someone flushing a toilet at 3am, slamming doors, and shouting loudly.',\n",
       "   'speaker': 'usr'},\n",
       "  {'text': 'I can see how it may be difficult to sleep at night with that type of activity going on. What is the relationship between your neighbors and you?',\n",
       "   'speaker': 'sys'},\n",
       "  {'text': \"The only thing I've found that helps a little is having the door closed, but that only works for a short time before they walk in.\",\n",
       "   'speaker': 'usr'},\n",
       "  {'text': 'Have you tried asking them to turn their music down, or complaining to your landlord?',\n",
       "   'speaker': 'sys'},\n",
       "  {'text': \"I've complained to my landlord but haven't had any real success. I think it's more of a nuisance to them than it is to me.\",\n",
       "   'speaker': 'usr'},\n",
       "  {'text': \"I would imagine that they don't care much about what you like or do, they're just being noisy to get away from their own problems. What is your relationship with your landlord like?\",\n",
       "   'speaker': 'sys'},\n",
       "  {'text': \"He's never spoken to them in any way, he thinks it's their problem not ours.\",\n",
       "   'speaker': 'usr'},\n",
       "  {'text': \"So you haven't had any relationship with him. Is there any way you can get your own space, perhaps some sort of partition?\",\n",
       "   'speaker': 'sys'},\n",
       "  {'text': \"I think it's unlikely that I will be able to get my own space anytime soon, but I don't mind having a good neighbor for now.\",\n",
       "   'speaker': 'usr'},\n",
       "  {'text': \"I'm sorry to hear that. Maybe you could tell him that the noise is keeping you awake and ask him to talk to your neighbors to avoid you living in such discomfort.\",\n",
       "   'speaker': 'sys'},\n",
       "  {'text': \"I don't want to ask him to do anything. I feel like I'm being forced into this situation and I don't have any alternatives.\",\n",
       "   'speaker': 'usr'},\n",
       "  {'text': \"That's understandable. Have you tried speaking with your neighbors? They might like to make amends.\",\n",
       "   'speaker': 'sys'},\n",
       "  {'text': 'I called their door and left a message but got no response. The same goes for my neighbors.',\n",
       "   'speaker': 'usr'},\n",
       "  {'text': \"I'm sorry to hear that. Have you tried speaking with your landlord again? It may seem like he's not paying attention, but he may just be busy.\",\n",
       "   'speaker': 'sys'},\n",
       "  {'text': \"My landlord says he will talk to them, but he's been a silent enforcer for as long as I've lived here.\",\n",
       "   'speaker': 'usr'},\n",
       "  {'text': 'I can see why it is hard for you. Is there anything else that I could say to help you feel better?',\n",
       "   'speaker': 'sys'},\n",
       "  {'text': 'It really is, and I appreciate you taking the time to listen to me.',\n",
       "   'speaker': 'usr'},\n",
       "  {'text': 'I hope you have a good rest of the evening. :)',\n",
       "   'speaker': 'sys'}]}"
      ]
     },
     "execution_count": 37,
     "metadata": {},
     "output_type": "execute_result"
    }
   ],
   "source": [
    "results[0]"
   ]
  },
  {
   "cell_type": "code",
   "execution_count": 23,
   "id": "26497661",
   "metadata": {},
   "outputs": [
    {
     "data": {
      "text/plain": [
       "65077"
      ]
     },
     "execution_count": 23,
     "metadata": {},
     "output_type": "execute_result"
    }
   ],
   "source": [
    "pt_1 = int(0.1 * len(results))\n",
    "len(results)"
   ]
  },
  {
   "cell_type": "code",
   "execution_count": 27,
   "id": "44e3ffdc",
   "metadata": {},
   "outputs": [
    {
     "data": {
      "text/plain": [
       "13020"
      ]
     },
     "execution_count": 27,
     "metadata": {},
     "output_type": "execute_result"
    }
   ],
   "source": [
    "train_examples = results[:int(8*pt_1)]\n",
    "val_examples = results[int(8*pt_1)+1:]\n",
    "len(val_examples)"
   ]
  },
  {
   "cell_type": "code",
   "execution_count": 42,
   "id": "e9916f12",
   "metadata": {},
   "outputs": [],
   "source": [
    "### write to files \n",
    "import json\n",
    "\n",
    "train_file = open(\"augesc_train_small.txt\", \"w\")\n",
    "for t in train_examples[:10000]: \n",
    "    train_file.write(json.dumps(t) + \"\\n\")\n",
    "val_file = open(\"augesc_val_small.txt\", \"w\")\n",
    "for t in val_examples[:2000]: \n",
    "    val_file.write(json.dumps(t) + \"\\n\")"
   ]
  },
  {
   "cell_type": "code",
   "execution_count": 43,
   "id": "bb77f2d7",
   "metadata": {},
   "outputs": [
    {
     "name": "stdout",
     "output_type": "stream",
     "text": [
      "-rw-rw-r-- 1 pdey3 pdey3  29M Nov 21 13:52 augesc_train_small.txt\r\n",
      "-rw-rw-r-- 1 pdey3 pdey3 150M Nov 21 13:52 augesc_train.txt\r\n",
      "-rw-rw-r-- 1 pdey3 pdey3 5.5M Nov 21 13:52 augesc_val_small.txt\r\n",
      "-rw-rw-r-- 1 pdey3 pdey3  39M Nov 21 13:52 augesc_val.txt\r\n",
      "-rw-rw-r-- 1 pdey3 pdey3 156M Nov 21 13:36 combined_train.txt\r\n",
      "-rw-rw-r-- 1 pdey3 pdey3  40M Nov 21 13:36 combined_val.txt\r\n"
     ]
    }
   ],
   "source": [
    "!ls -lh *txt"
   ]
  },
  {
   "cell_type": "code",
   "execution_count": 44,
   "id": "7dfcca88",
   "metadata": {},
   "outputs": [],
   "source": [
    "### combining the dataset with esconv\n",
    "! cat /home/pdey3/blenderbot/_reformat/esconv/sbert/train.txt augesc_train_small.txt > combined_train_small.txt\n",
    "! cat /home/pdey3/blenderbot/_reformat/esconv/sbert/valid.txt augesc_val_small.txt > combined_val_small.txt"
   ]
  },
  {
   "cell_type": "code",
   "execution_count": 41,
   "id": "4a107c62",
   "metadata": {},
   "outputs": [
    {
     "name": "stdout",
     "output_type": "stream",
     "text": [
      "-rw-rw-r-- 1 pdey3 pdey3 6.2M Jun  3 00:27 /home/pdey3/blenderbot/_reformat/esconv/sbert/train.txt\r\n"
     ]
    }
   ],
   "source": [
    "!ls -lh /home/pdey3/blenderbot/_reformat/esconv/sbert/train.txt"
   ]
  },
  {
   "cell_type": "code",
   "execution_count": null,
   "id": "90105f48",
   "metadata": {},
   "outputs": [],
   "source": []
  }
 ],
 "metadata": {
  "kernelspec": {
   "display_name": "Python 3 (ipykernel)",
   "language": "python",
   "name": "python3"
  },
  "language_info": {
   "codemirror_mode": {
    "name": "ipython",
    "version": 3
   },
   "file_extension": ".py",
   "mimetype": "text/x-python",
   "name": "python",
   "nbconvert_exporter": "python",
   "pygments_lexer": "ipython3",
   "version": "3.8.11"
  }
 },
 "nbformat": 4,
 "nbformat_minor": 5
}
